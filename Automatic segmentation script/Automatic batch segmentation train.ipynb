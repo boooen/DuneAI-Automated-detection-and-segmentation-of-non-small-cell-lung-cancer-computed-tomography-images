{
 "cells": [
  {
   "cell_type": "code",
   "execution_count": null,
   "metadata": {},
   "outputs": [],
   "source": [
    "import tensorflow as tf\n",
    "from train_model import train_model\n",
    "from Generator_v1 import Patient_data_generator\n",
    "import lung_extraction_funcs_13_09 as le\n",
    "import os\n",
    "\n",
    "# Initialize paths\n",
    "data_path = '../Software for qualitative assesment/train_data'  # Path to training data\n",
    "validation_data_path = '../Software for qualitative assesment/validation_data'  # Path to validation data\n",
    "model_path = './model_files/'  # Path to model files\n",
    "best_model_path = 'best_model.h5'  # Path to the best model weights from previous training\n"
   ]
  },
  {
   "cell_type": "code",
   "execution_count": null,
   "metadata": {},
   "outputs": [],
   "source": [
    "\n",
    "# Initialize data generators\n",
    "train_patient_dict = le.parse_dataset(data_path, img_only=True)\n",
    "validation_patient_dict = le.parse_dataset(validation_data_path, img_only=True)\n",
    "\n",
    "train_generator = Patient_data_generator(\n",
    "    train_patient_dict, predict=False, batch_size=8, image_size=512, shuffle=True,\n",
    "    use_window=True, window_params=[1500, -600], resample_int_val=True, resampling_step=25,\n",
    "    extract_lungs=True, size_eval=False, verbosity=True, reshape=True, img_only=True\n",
    ")\n",
    "\n",
    "validation_generator = Patient_data_generator(\n",
    "    validation_patient_dict, predict=False, batch_size=8, image_size=512, shuffle=True,\n",
    "    use_window=True, window_params=[1500, -600], resample_int_val=True, resampling_step=25,\n",
    "    extract_lungs=True, size_eval=False, verbosity=True, reshape=True, img_only=True\n",
    ")\n"
   ]
  },
  {
   "cell_type": "code",
   "execution_count": null,
   "metadata": {},
   "outputs": [],
   "source": [
    "\n",
    "# Load or initialize the model\n",
    "json_file = open(os.path.join(model_path, 'model_v7.json'), 'r')\n",
    "loaded_model_json = json_file.read()\n",
    "json_file.close()\n",
    "model = tf.keras.models.model_from_json(loaded_model_json)\n"
   ]
  },
  {
   "cell_type": "code",
   "execution_count": null,
   "metadata": {},
   "outputs": [],
   "source": [
    "# Load the best model weights from previous training (if available)\n",
    "if os.path.exists(best_model_path):\n",
    "    print(f\"Loading model weights from {best_model_path}...\")\n",
    "    model.load_weights(best_model_path)\n",
    "else:\n",
    "    print(\"No previous model weights found. Initializing model with random weights.\")\n",
    "    # No need to load any weights, the model will be initialized with random weights"
   ]
  },
  {
   "cell_type": "code",
   "execution_count": null,
   "metadata": {},
   "outputs": [],
   "source": [
    "\n",
    "# Train the model\n",
    "# 调用 train_model 中的 train_model 函数\n",
    "history = train_model(model, train_generator, validation_generator)\n",
    "\n",
    "# Save the final model (optional)\n",
    "model.save_weights('final_model_weights.h5')  # Save final weights as .hdf5\n",
    "# 训练全过程一共生成两个权重文件 best_weights 和 final_weights"
   ]
  }
 ],
 "metadata": {
  "kernelspec": {
   "display_name": "env_tens",
   "language": "python",
   "name": "python3"
  },
  "language_info": {
   "name": "python",
   "version": "3.8.5"
  }
 },
 "nbformat": 4,
 "nbformat_minor": 2
}
